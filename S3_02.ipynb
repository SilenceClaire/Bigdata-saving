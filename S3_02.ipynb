{
 "cells": [
  {
   "cell_type": "code",
   "execution_count": 4,
   "metadata": {},
   "outputs": [],
   "source": [
    "import boto3\n",
    "import math\n",
    "import os\n",
    "import time\n",
    "\n",
    "\n",
    "def s3_get_meta_data(conn, bucket, key):\n",
    "    meta_data = conn.head_object(\n",
    "    Bucket=bucket,\n",
    "    Key=key\n",
    "    )\n",
    "    return meta_data"
   ]
  },
  {
   "cell_type": "code",
   "execution_count": 7,
   "metadata": {},
   "outputs": [],
   "source": [
    "def s3_download(conn, bucket, key, parallel_threads):\n",
    "    start = time.time()\n",
    "    md = s3_get_meta_data(conn, bucket, key)\n",
    "    chunk = get_cunks(md[\"ContentLength\"], parallel_threads)\n",
    "    print(\"Making %s parallel s3 calls with a chunk size of %s each...\" % (parallel_threads, convert_size(chunk)))\n",
    "    cur_dir = os.path.dirname(os.path.realpath(__file__))\n",
    "    conn.download_file(\n",
    "        Bucket=bucket,\n",
    "        Filename=key.split(\"/\")[-1],\n",
    "        Key=key,\n",
    "        Config=boto3.s3.transfer.TransferConfig(max_concurrency=parallel_threads))\n",
    "    end = time.time() - start\n",
    "    print(\"Finished downloading %s in %s seconds\" % (key, end))"
   ]
  },
  {
   "cell_type": "code",
   "execution_count": 8,
   "metadata": {},
   "outputs": [],
   "source": [
    "def convert_size(size_bytes):\n",
    "    if size_bytes == 0:\n",
    "        return \"0B\"\n",
    "    size_name = (\"B\", \"KB\", \"MB\", \"GB\", \"TB\", \"PB\", \"EB\", \"ZB\", \"YB\")\n",
    "    i = int(math.floor(math.log(size_bytes, 1024)))\n",
    "    p = math.pow(1024, i)\n",
    "    s = round(size_bytes / p, 2)\n",
    "    return \"%s %s\" % (s, size_name[i])\n"
   ]
  },
  {
   "cell_type": "code",
   "execution_count": 9,
   "metadata": {},
   "outputs": [],
   "source": [
    "def get_cunks(size_bytes, desired_sections):\n",
    "    return size_bytes / desired_sections"
   ]
  }
 ],
 "metadata": {
  "kernelspec": {
   "display_name": "Python 3",
   "language": "python",
   "name": "python3"
  },
  "language_info": {
   "codemirror_mode": {
    "name": "ipython",
    "version": 3
   },
   "file_extension": ".py",
   "mimetype": "text/x-python",
   "name": "python",
   "nbconvert_exporter": "python",
   "pygments_lexer": "ipython3",
   "version": "3.7.4"
  }
 },
 "nbformat": 4,
 "nbformat_minor": 2
}
