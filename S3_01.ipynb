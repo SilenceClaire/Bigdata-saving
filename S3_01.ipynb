{
 "cells": [
  {
   "cell_type": "code",
   "execution_count": 11,
   "metadata": {},
   "outputs": [],
   "source": [
    "import boto3\n",
    "import logging\n",
    "from botocore.exceptions import ClientError\n",
    "from botocore.client import Config"
   ]
  },
  {
   "cell_type": "code",
   "execution_count": 12,
   "metadata": {},
   "outputs": [],
   "source": [
    "s3 = boto3.resource('s3')"
   ]
  },
  {
   "cell_type": "code",
   "execution_count": 13,
   "metadata": {},
   "outputs": [],
   "source": [
    "session = boto3.session.Session()"
   ]
  },
  {
   "cell_type": "code",
   "execution_count": 14,
   "metadata": {},
   "outputs": [],
   "source": [
    "file_path = 'C:/Users/Administrator/Pictures/Camera Roll/love.jpg'\n",
    "key_name = 'love.jpg'\n",
    "buket_name = 'chensi'\n",
    "access_key = 'CFDB3730D1E61E878E7D'\n",
    "secret_key = 'WzhDMURDRDcxMTNBNjNBRTdBREQ2NzE2RTM2NzFEMTdCNDk5OURENkJd'\n",
    "endpoint = 'http://chensi.scuts3.depts.bingosoft.net:29999/'\n"
   ]
  },
  {
   "cell_type": "code",
   "execution_count": 15,
   "metadata": {},
   "outputs": [],
   "source": [
    "s3 = session.client('s3',use_ssl=False, endpoint_url=endpoint,\n",
    "                   aws_access_key_id = access_key,\n",
    "                   aws_secret_access_key=secret_key,\n",
    "                   config=Config(signature_version='s3v4',s3={'addressing_style':'path'}))"
   ]
  },
  {
   "cell_type": "code",
   "execution_count": 20,
   "metadata": {},
   "outputs": [],
   "source": [
    "#response = s3.create_bucket(Bucket='chensi01')\n"
   ]
  },
  {
   "cell_type": "code",
   "execution_count": 17,
   "metadata": {},
   "outputs": [],
   "source": [
    "s3.upload_file(file_path,buket_name,key_name,ExtraArgs={'ContentType':'picture/jpg'})"
   ]
  },
  {
   "cell_type": "code",
   "execution_count": 20,
   "metadata": {},
   "outputs": [],
   "source": [
    "from boto.s3.connection import S3Connection,OrdinaryCallingFormat,SubdomainCallingFormat\n",
    "import ssl\n",
    "import boto.s3.key\n",
    "import os\n",
    "import json\n",
    "import random\n",
    "import fire\n",
    "import math\n",
    "from filechunkio import FileChunkIO"
   ]
  },
  {
   "cell_type": "code",
   "execution_count": 23,
   "metadata": {},
   "outputs": [],
   "source": [
    "class S3(object):\n",
    "    def __init__(self,host,access_key_id,secret_access_key,port=443,is_secure=True):\n",
    "        if is_secure:\n",
    "            ssl._create_default_https_context =ssl._create_unverified_context\n",
    "        self._secure=is_secure\n",
    "          self._secure=is_secure\n",
    "        self.host=host\n",
    "        self.access_key_id=access_key_id\n",
    "        self.secret_access_key=secret_access_key\n",
    "        self.port=port\n",
    "        self._connection=False\n",
    "        self._client=None\n",
    "    # def __del__(self):\n",
    "    #    self._client.closed()\n",
    "    def connect(self,aws=False):\n",
    "        try:\n",
    "            if aws:\n",
    "                calling_format=SubdomainCallingFormat()\n",
    "            else:\n",
    "                calling_format=OrdinaryCallingFormat()\n",
    "            conn = S3Connection(\n",
    "                host=self.host,\n",
    "                aws_access_key_id=self.access_key_id,\n",
    "                aws_secret_access_key=self.secret_access_key,\n",
    "                port=self.port,\n",
    "                debug=1,\n",
    "                is_secure=self._secure,\n",
    "                calling_format=calling_format\n",
    "            )\n",
    "            self._connection=True\n",
    "            self._client=conn\n",
    "        except Exception as e:\n",
    "            self._connection=False\n",
    "            print(e)\n",
    "    def upload_file(self,bucket,file_path,path=''):\n",
    "        try:\n",
    "            bucket=self._client.get_bucket(bucket)\n",
    "            key=bucket.new_key(path+os.path.basename(file_path))\n",
    "            key.set_contents_from_filename(file_path)\n",
    "            return True\n",
    "        except Exception as e:\n",
    "            print(e)\n",
    "            return False\n",
    "    def chunk_upload_file(self,bucket,file_path):\n",
    "        try:\n",
    "            source_path = file_path\n",
    "            source_size = os.stat(file_path).st_size\n",
    "            chunk_size = 52428800\n",
    "            chunk_count = int(math.ceil(source_size / float(chunk_size)))\n",
    "            bucket=self._client.get_bucket(bucket)\n",
    "            mp=bucket.initiate_multipart_upload(os.path.basename(file_path))\n",
    "            for i in range(chunk_count):\n",
    "                offset = chunk_size * i\n",
    "                bytes_ = min(chunk_size, source_size - offset)\n",
    "                with FileChunkIO(source_path, 'r', offset=offset,bytes=bytes_) as fp:\n",
    "                    mp.upload_part_from_file(fp, part_num=i + 1)\n",
    "\n",
    "            mp.complete_upload()\n",
    "            return True\n",
    "        except Exception as e:\n",
    "            print(e)\n",
    "            return False"
   ]
  }
 ],
 "metadata": {
  "kernelspec": {
   "display_name": "Python 3",
   "language": "python",
   "name": "python3"
  },
  "language_info": {
   "codemirror_mode": {
    "name": "ipython",
    "version": 3
   },
   "file_extension": ".py",
   "mimetype": "text/x-python",
   "name": "python",
   "nbconvert_exporter": "python",
   "pygments_lexer": "ipython3",
   "version": "3.7.4"
  }
 },
 "nbformat": 4,
 "nbformat_minor": 2
}
